{
 "cells": [
  {
   "cell_type": "code",
   "execution_count": 1,
   "id": "d5e41901",
   "metadata": {
    "_cell_guid": "b1076dfc-b9ad-4769-8c92-a6c4dae69d19",
    "_uuid": "8f2839f25d086af736a60e9eeb907d3b93b6e0e5",
    "execution": {
     "iopub.execute_input": "2022-05-05T18:22:35.157926Z",
     "iopub.status.busy": "2022-05-05T18:22:35.157104Z",
     "iopub.status.idle": "2022-05-05T18:22:35.170405Z",
     "shell.execute_reply": "2022-05-05T18:22:35.169638Z"
    },
    "papermill": {
     "duration": 0.040364,
     "end_time": "2022-05-05T18:22:35.172641",
     "exception": false,
     "start_time": "2022-05-05T18:22:35.132277",
     "status": "completed"
    },
    "tags": []
   },
   "outputs": [],
   "source": [
    "# This Python 3 environment comes with many helpful analytics libraries installed\n",
    "# It is defined by the kaggle/python Docker image: https://github.com/kaggle/docker-python\n",
    "# For example, here's several helpful packages to load\n",
    "\n",
    "import numpy as np # linear algebra\n",
    "import pandas as pd # data processing, CSV file I/O (e.g. pd.read_csv)\n",
    "\n",
    "# Input data files are available in the read-only \"../input/\" directory\n",
    "# For example, running this (by clicking run or pressing Shift+Enter) will list all files under the input directory\n",
    "\n",
    "import os\n",
    "#for dirname, _, filenames in os.walk('/kaggle/input'):\n",
    "   # for filename in filenames:\n",
    "       # print(os.path.join(dirname, filename))\n",
    "\n",
    "# You can write up to 20GB to the current directory (/kaggle/working/) that gets preserved as output when you create a version using \"Save & Run All\" \n",
    "# You can also write temporary files to /kaggle/temp/, but they won't be saved outside of the current session"
   ]
  },
  {
   "cell_type": "code",
   "execution_count": 2,
   "id": "01ddf9c9",
   "metadata": {
    "execution": {
     "iopub.execute_input": "2022-05-05T18:22:35.214024Z",
     "iopub.status.busy": "2022-05-05T18:22:35.213492Z",
     "iopub.status.idle": "2022-05-05T18:22:36.604965Z",
     "shell.execute_reply": "2022-05-05T18:22:36.603975Z"
    },
    "papermill": {
     "duration": 1.415052,
     "end_time": "2022-05-05T18:22:36.607479",
     "exception": false,
     "start_time": "2022-05-05T18:22:35.192427",
     "status": "completed"
    },
    "tags": []
   },
   "outputs": [],
   "source": [
    "import matplotlib.pyplot as plt\n",
    "from sklearn.preprocessing import LabelEncoder\n",
    "import cv2\n",
    "from sklearn.model_selection import train_test_split\n",
    "from sklearn.utils import shuffle"
   ]
  },
  {
   "cell_type": "code",
   "execution_count": 3,
   "id": "846b0f43",
   "metadata": {
    "execution": {
     "iopub.execute_input": "2022-05-05T18:22:36.649921Z",
     "iopub.status.busy": "2022-05-05T18:22:36.649369Z",
     "iopub.status.idle": "2022-05-05T18:22:43.010098Z",
     "shell.execute_reply": "2022-05-05T18:22:43.009003Z"
    },
    "papermill": {
     "duration": 6.384247,
     "end_time": "2022-05-05T18:22:43.012614",
     "exception": false,
     "start_time": "2022-05-05T18:22:36.628367",
     "status": "completed"
    },
    "tags": []
   },
   "outputs": [
    {
     "name": "stdout",
     "output_type": "stream",
     "text": [
      "WARNING:tensorflow:From c:\\Users\\katty\\AppData\\Local\\Programs\\Python\\Python310\\lib\\site-packages\\keras\\src\\losses.py:2976: The name tf.losses.sparse_softmax_cross_entropy is deprecated. Please use tf.compat.v1.losses.sparse_softmax_cross_entropy instead.\n",
      "\n"
     ]
    }
   ],
   "source": [
    "from tensorflow.keras.models import Sequential\n",
    "from tensorflow.keras.layers import Dense,Dropout,Flatten\n",
    "from tensorflow.keras.layers import Conv2D,MaxPool2D\n",
    "from tensorflow.keras.layers import Input, Dense\n",
    "from tensorflow.keras.utils import to_categorical\n",
    "from tensorflow.keras.models import Model\n",
    "from tensorflow.keras.preprocessing.image import ImageDataGenerator\n",
    "from sklearn.metrics import confusion_matrix\n",
    "from tensorflow.keras.applications.vgg16 import VGG16\n",
    "from numpy import argmax\n",
    "import os"
   ]
  },
  {
   "cell_type": "code",
   "execution_count": 5,
   "id": "a6bcf85a",
   "metadata": {
    "execution": {
     "iopub.execute_input": "2022-05-05T18:22:43.054260Z",
     "iopub.status.busy": "2022-05-05T18:22:43.053529Z",
     "iopub.status.idle": "2022-05-05T18:22:43.070762Z",
     "shell.execute_reply": "2022-05-05T18:22:43.070157Z"
    },
    "papermill": {
     "duration": 0.040697,
     "end_time": "2022-05-05T18:22:43.072934",
     "exception": false,
     "start_time": "2022-05-05T18:22:43.032237",
     "status": "completed"
    },
    "tags": []
   },
   "outputs": [
    {
     "data": {
      "text/plain": [
       "['Bulging_Eyes', 'Cataracts', 'Crossed_Eyes', 'Glaucoma', 'Uveitis']"
      ]
     },
     "execution_count": 5,
     "metadata": {},
     "output_type": "execute_result"
    }
   ],
   "source": [
    "PATH = \"C:/Users/katty/Downloads/archive/Eye_diseases/Eye_diseases\"\n",
    "data_dir_list = os.listdir(PATH)\n",
    "data_dir_list"
   ]
  },
  {
   "cell_type": "code",
   "execution_count": 6,
   "id": "6f46810c",
   "metadata": {
    "execution": {
     "iopub.execute_input": "2022-05-05T18:22:43.114996Z",
     "iopub.status.busy": "2022-05-05T18:22:43.114510Z",
     "iopub.status.idle": "2022-05-05T18:22:44.735312Z",
     "shell.execute_reply": "2022-05-05T18:22:44.734416Z"
    },
    "papermill": {
     "duration": 1.644534,
     "end_time": "2022-05-05T18:22:44.738005",
     "exception": false,
     "start_time": "2022-05-05T18:22:43.093471",
     "status": "completed"
    },
    "tags": []
   },
   "outputs": [
    {
     "name": "stdout",
     "output_type": "stream",
     "text": [
      "Getting image from Bulging_Eyes folder\n",
      "Getting image from Cataracts folder\n",
      "Getting image from Crossed_Eyes folder\n",
      "Getting image from Glaucoma folder\n",
      "Getting image from Uveitis folder\n"
     ]
    }
   ],
   "source": [
    "img_rows=224\n",
    "img_cols=224\n",
    "num_channel=3\n",
    "\n",
    "num_epoch = 5\n",
    "batch_size = 32\n",
    "\n",
    "img_data_list=[]\n",
    "classes_names_list=[]\n",
    "target_column=[]\n",
    "for dataset in data_dir_list:\n",
    "    classes_names_list.append(dataset)\n",
    "    print(\"Getting image from {} folder\".format(dataset))\n",
    "    img_list= os.listdir(PATH +\"/\"+ dataset)\n",
    "    for img in img_list:\n",
    "        input_img = cv2.imread(PATH +\"/\"+dataset+\"/\"+img)\n",
    "        input_img_resize=cv2.resize(input_img,(img_rows,img_cols))\n",
    "        img_data_list.append(input_img_resize)\n",
    "        target_column.append(dataset)"
   ]
  },
  {
   "cell_type": "code",
   "execution_count": 7,
   "id": "c09920ad",
   "metadata": {
    "execution": {
     "iopub.execute_input": "2022-05-05T18:22:44.786365Z",
     "iopub.status.busy": "2022-05-05T18:22:44.786046Z",
     "iopub.status.idle": "2022-05-05T18:22:44.925907Z",
     "shell.execute_reply": "2022-05-05T18:22:44.924912Z"
    },
    "papermill": {
     "duration": 0.166534,
     "end_time": "2022-05-05T18:22:44.928449",
     "exception": false,
     "start_time": "2022-05-05T18:22:44.761915",
     "status": "completed"
    },
    "tags": []
   },
   "outputs": [
    {
     "name": "stdout",
     "output_type": "stream",
     "text": [
      "num_classes 5\n",
      "Shape of image data (383, 224, 224, 3)\n"
     ]
    }
   ],
   "source": [
    "import numpy as np\n",
    "num_classes = len(classes_names_list)\n",
    "print(\"num_classes\",num_classes)\n",
    "img_data = np.array(img_data_list) # convert images in numpy array \n",
    "img_data = img_data.astype('float32')\n",
    "img_data /= 255\n",
    "print(\"Shape of image data\",img_data.shape)\n",
    "num_of_samples = img_data.shape[0]\n",
    "input_shape = img_data[0].shape \n"
   ]
  },
  {
   "cell_type": "code",
   "execution_count": 8,
   "id": "a195b8d5",
   "metadata": {
    "execution": {
     "iopub.execute_input": "2022-05-05T18:22:44.987617Z",
     "iopub.status.busy": "2022-05-05T18:22:44.987079Z",
     "iopub.status.idle": "2022-05-05T18:22:44.994418Z",
     "shell.execute_reply": "2022-05-05T18:22:44.993320Z"
    },
    "papermill": {
     "duration": 0.042328,
     "end_time": "2022-05-05T18:22:44.997129",
     "exception": false,
     "start_time": "2022-05-05T18:22:44.954801",
     "status": "completed"
    },
    "tags": []
   },
   "outputs": [
    {
     "data": {
      "text/plain": [
       "383"
      ]
     },
     "execution_count": 8,
     "metadata": {},
     "output_type": "execute_result"
    }
   ],
   "source": [
    "num_of_samples"
   ]
  },
  {
   "cell_type": "code",
   "execution_count": 9,
   "id": "1029096a",
   "metadata": {
    "execution": {
     "iopub.execute_input": "2022-05-05T18:22:45.050529Z",
     "iopub.status.busy": "2022-05-05T18:22:45.050192Z",
     "iopub.status.idle": "2022-05-05T18:22:45.058716Z",
     "shell.execute_reply": "2022-05-05T18:22:45.057702Z"
    },
    "papermill": {
     "duration": 0.034338,
     "end_time": "2022-05-05T18:22:45.060840",
     "exception": false,
     "start_time": "2022-05-05T18:22:45.026502",
     "status": "completed"
    },
    "tags": []
   },
   "outputs": [
    {
     "data": {
      "text/plain": [
       "array([0, 1, 2, 3, 4], dtype=int64)"
      ]
     },
     "execution_count": 9,
     "metadata": {},
     "output_type": "execute_result"
    }
   ],
   "source": [
    "Labelencoder = LabelEncoder()\n",
    "target_column = Labelencoder.fit_transform(target_column)\n",
    "np.unique(target_column)"
   ]
  },
  {
   "cell_type": "code",
   "execution_count": 10,
   "id": "628cdf4a",
   "metadata": {
    "execution": {
     "iopub.execute_input": "2022-05-05T18:22:45.107792Z",
     "iopub.status.busy": "2022-05-05T18:22:45.107448Z",
     "iopub.status.idle": "2022-05-05T18:22:45.114526Z",
     "shell.execute_reply": "2022-05-05T18:22:45.113621Z"
    },
    "papermill": {
     "duration": 0.033512,
     "end_time": "2022-05-05T18:22:45.116630",
     "exception": false,
     "start_time": "2022-05-05T18:22:45.083118",
     "status": "completed"
    },
    "tags": []
   },
   "outputs": [
    {
     "data": {
      "text/plain": [
       "array([0, 0, 0, 0, 0, 0, 0, 0, 0, 0, 0, 0, 0, 0, 0, 0, 0, 0, 0, 0, 0, 0,\n",
       "       0, 0, 0, 0, 0, 0, 0, 0, 1, 1, 1, 1, 1, 1, 1, 1, 1, 1, 1, 1, 1, 1,\n",
       "       1, 1, 1, 1, 1, 1, 1, 1, 1, 1, 1, 1, 1, 1, 1, 1, 1, 1, 1, 1, 1, 1,\n",
       "       1, 1, 1, 1, 1, 1, 1, 1, 1, 1, 1, 2, 2, 2, 2, 2, 2, 2, 2, 2, 2, 2,\n",
       "       2, 2, 2, 2, 2, 2, 2, 2, 2, 2, 2, 2, 2, 2, 2, 2, 2, 2, 2, 2, 2, 2,\n",
       "       2, 2, 2, 2, 2, 2, 2, 2, 2, 2, 2, 2, 2, 2, 2, 2, 2, 2, 2, 2, 2, 2,\n",
       "       2, 2, 2, 2, 2, 2, 2, 2, 2, 2, 2, 2, 2, 2, 2, 2, 2, 2, 2, 2, 2, 2,\n",
       "       2, 2, 2, 2, 2, 2, 2, 2, 2, 2, 2, 2, 2, 2, 2, 2, 2, 2, 2, 2, 2, 2,\n",
       "       2, 2, 2, 2, 2, 2, 2, 2, 2, 2, 2, 2, 2, 2, 2, 2, 2, 2, 2, 2, 2, 2,\n",
       "       2, 2, 2, 2, 2, 2, 2, 2, 2, 2, 2, 2, 2, 2, 2, 2, 2, 2, 2, 2, 2, 2,\n",
       "       2, 2, 2, 2, 2, 2, 2, 2, 2, 2, 2, 2, 2, 2, 2, 2, 2, 2, 2, 2, 2, 2,\n",
       "       2, 2, 2, 2, 2, 2, 2, 2, 2, 3, 3, 3, 3, 3, 3, 3, 3, 3, 3, 3, 3, 3,\n",
       "       3, 3, 3, 3, 3, 3, 3, 3, 3, 3, 3, 3, 3, 3, 3, 3, 3, 3, 3, 3, 3, 3,\n",
       "       3, 3, 3, 3, 3, 3, 3, 3, 3, 3, 3, 3, 3, 3, 3, 3, 3, 3, 3, 3, 3, 3,\n",
       "       3, 3, 3, 3, 3, 3, 3, 3, 3, 3, 3, 3, 3, 3, 3, 3, 3, 3, 3, 3, 3, 3,\n",
       "       3, 3, 3, 4, 4, 4, 4, 4, 4, 4, 4, 4, 4, 4, 4, 4, 4, 4, 4, 4, 4, 4,\n",
       "       4, 4, 4, 4, 4, 4, 4, 4, 4, 4, 4, 4, 4, 4, 4, 4, 4, 4, 4, 4, 4, 4,\n",
       "       4, 4, 4, 4, 4, 4, 4, 4, 4], dtype=int64)"
      ]
     },
     "execution_count": 10,
     "metadata": {},
     "output_type": "execute_result"
    }
   ],
   "source": [
    "target_column"
   ]
  },
  {
   "cell_type": "code",
   "execution_count": 11,
   "id": "7ceca03a",
   "metadata": {
    "execution": {
     "iopub.execute_input": "2022-05-05T18:22:45.165128Z",
     "iopub.status.busy": "2022-05-05T18:22:45.164830Z",
     "iopub.status.idle": "2022-05-05T18:22:45.386301Z",
     "shell.execute_reply": "2022-05-05T18:22:45.385384Z"
    },
    "papermill": {
     "duration": 0.249217,
     "end_time": "2022-05-05T18:22:45.388640",
     "exception": false,
     "start_time": "2022-05-05T18:22:45.139423",
     "status": "completed"
    },
    "tags": []
   },
   "outputs": [],
   "source": [
    "target_column_hotcoded = to_categorical(target_column,num_classes)\n",
    "X,Y = shuffle(img_data,target_column_hotcoded,random_state=2)\n",
    "X_train,X_temp,y_train,y_temp = train_test_split(X,Y,test_size=0.3,random_state=2)\n",
    "X_test,X_val,y_test,y_val = train_test_split(X_temp,y_temp,test_size=0.3,random_state=2)"
   ]
  },
  {
   "cell_type": "code",
   "execution_count": 12,
   "id": "0536a4b6",
   "metadata": {
    "execution": {
     "iopub.execute_input": "2022-05-05T18:22:45.435472Z",
     "iopub.status.busy": "2022-05-05T18:22:45.435159Z",
     "iopub.status.idle": "2022-05-05T18:22:46.031368Z",
     "shell.execute_reply": "2022-05-05T18:22:46.030009Z"
    },
    "papermill": {
     "duration": 0.623322,
     "end_time": "2022-05-05T18:22:46.034460",
     "exception": false,
     "start_time": "2022-05-05T18:22:45.411138",
     "status": "completed"
    },
    "tags": []
   },
   "outputs": [
    {
     "name": "stdout",
     "output_type": "stream",
     "text": [
      "WARNING:tensorflow:From c:\\Users\\katty\\AppData\\Local\\Programs\\Python\\Python310\\lib\\site-packages\\keras\\src\\backend.py:873: The name tf.get_default_graph is deprecated. Please use tf.compat.v1.get_default_graph instead.\n",
      "\n",
      "WARNING:tensorflow:From c:\\Users\\katty\\AppData\\Local\\Programs\\Python\\Python310\\lib\\site-packages\\keras\\src\\layers\\pooling\\max_pooling2d.py:161: The name tf.nn.max_pool is deprecated. Please use tf.nn.max_pool2d instead.\n",
      "\n",
      "WARNING:tensorflow:From c:\\Users\\katty\\AppData\\Local\\Programs\\Python\\Python310\\lib\\site-packages\\keras\\src\\optimizers\\__init__.py:309: The name tf.train.Optimizer is deprecated. Please use tf.compat.v1.train.Optimizer instead.\n",
      "\n",
      "Model: \"sequential\"\n",
      "_________________________________________________________________\n",
      " Layer (type)                Output Shape              Param #   \n",
      "=================================================================\n",
      " conv2d (Conv2D)             (None, 222, 222, 64)      1792      \n",
      "                                                                 \n",
      " conv2d_1 (Conv2D)           (None, 220, 220, 64)      36928     \n",
      "                                                                 \n",
      " max_pooling2d (MaxPooling2  (None, 110, 110, 64)      0         \n",
      " D)                                                              \n",
      "                                                                 \n",
      " dropout (Dropout)           (None, 110, 110, 64)      0         \n",
      "                                                                 \n",
      " conv2d_2 (Conv2D)           (None, 108, 108, 128)     73856     \n",
      "                                                                 \n",
      " conv2d_3 (Conv2D)           (None, 106, 106, 128)     147584    \n",
      "                                                                 \n",
      " max_pooling2d_1 (MaxPoolin  (None, 53, 53, 128)       0         \n",
      " g2D)                                                            \n",
      "                                                                 \n",
      " dropout_1 (Dropout)         (None, 53, 53, 128)       0         \n",
      "                                                                 \n",
      " flatten (Flatten)           (None, 359552)            0         \n",
      "                                                                 \n",
      " dense (Dense)               (None, 128)               46022784  \n",
      "                                                                 \n",
      " dropout_2 (Dropout)         (None, 128)               0         \n",
      "                                                                 \n",
      " dense_1 (Dense)             (None, 5)                 645       \n",
      "                                                                 \n",
      "=================================================================\n",
      "Total params: 46283589 (176.56 MB)\n",
      "Trainable params: 46283589 (176.56 MB)\n",
      "Non-trainable params: 0 (0.00 Byte)\n",
      "_________________________________________________________________\n"
     ]
    }
   ],
   "source": [
    "first_Mod = Sequential()\n",
    "\n",
    "first_Mod.add(Conv2D(64,(3,3),activation='relu',input_shape=input_shape))\n",
    "first_Mod.add(Conv2D(64,(3,3),activation='relu'))\n",
    "first_Mod.add(MaxPool2D(pool_size=(2,2)))\n",
    "first_Mod.add(Dropout(0.2))\n",
    "\n",
    "first_Mod.add(Conv2D(128,(3,3),activation='relu'))\n",
    "first_Mod.add(Conv2D(128,(3,3),activation='relu'))\n",
    "first_Mod.add(MaxPool2D(pool_size=(2,2)))\n",
    "first_Mod.add(Dropout(0.2))\n",
    "\n",
    "first_Mod.add(Flatten())\n",
    "first_Mod.add(Dense(128,activation='relu'))\n",
    "first_Mod.add(Dropout(0.2))\n",
    "first_Mod.add(Dense(num_classes,activation='softmax'))\n",
    "first_Mod.compile(loss='categorical_crossentropy',optimizer='adam',metrics=['accuracy'])\n",
    "\n",
    "first_Mod.summary()"
   ]
  },
  {
   "cell_type": "code",
   "execution_count": 14,
   "id": "0a2380ee",
   "metadata": {
    "execution": {
     "iopub.execute_input": "2022-05-05T18:22:46.085319Z",
     "iopub.status.busy": "2022-05-05T18:22:46.085000Z",
     "iopub.status.idle": "2022-05-05T20:00:00.957037Z",
     "shell.execute_reply": "2022-05-05T20:00:00.956242Z"
    },
    "papermill": {
     "duration": 5834.900062,
     "end_time": "2022-05-05T20:00:00.959776",
     "exception": false,
     "start_time": "2022-05-05T18:22:46.059714",
     "status": "completed"
    },
    "tags": []
   },
   "outputs": [
    {
     "name": "stdout",
     "output_type": "stream",
     "text": [
      "Epoch 1/50\n",
      "WARNING:tensorflow:From c:\\Users\\katty\\AppData\\Local\\Programs\\Python\\Python310\\lib\\site-packages\\keras\\src\\utils\\tf_utils.py:492: The name tf.ragged.RaggedTensorValue is deprecated. Please use tf.compat.v1.ragged.RaggedTensorValue instead.\n",
      "\n",
      "WARNING:tensorflow:From c:\\Users\\katty\\AppData\\Local\\Programs\\Python\\Python310\\lib\\site-packages\\keras\\src\\engine\\base_layer_utils.py:384: The name tf.executing_eagerly_outside_functions is deprecated. Please use tf.compat.v1.executing_eagerly_outside_functions instead.\n",
      "\n",
      "9/9 [==============================] - 375s 40s/step - loss: 6.1741 - accuracy: 0.3470 - val_loss: 1.4838 - val_accuracy: 0.4500\n",
      "Epoch 2/50\n",
      "9/9 [==============================] - 512s 59s/step - loss: 1.3718 - accuracy: 0.4403 - val_loss: 1.4458 - val_accuracy: 0.4500\n",
      "Epoch 3/50\n",
      "9/9 [==============================] - 520s 58s/step - loss: 1.3819 - accuracy: 0.4851 - val_loss: 1.4427 - val_accuracy: 0.4500\n",
      "Epoch 4/50\n",
      "1/9 [==>...........................] - ETA: 8:19 - loss: 1.3936 - accuracy: 0.5000"
     ]
    }
   ],
   "source": [
    "hist = first_Mod.fit(X_train,y_train,batch_size=batch_size,epochs=num_epoch,verbose=1,validation_data=(X_test,y_test))\n",
    "score = first_Mod.evaluate(X_test,y_test,batch_size=batch_size)"
   ]
  },
  {
   "cell_type": "code",
   "execution_count": 13,
   "id": "cb89bbdf",
   "metadata": {
    "execution": {
     "iopub.execute_input": "2022-05-05T20:00:01.410145Z",
     "iopub.status.busy": "2022-05-05T20:00:01.409700Z",
     "iopub.status.idle": "2022-05-05T20:00:17.827560Z",
     "shell.execute_reply": "2022-05-05T20:00:17.826138Z"
    },
    "papermill": {
     "duration": 16.646363,
     "end_time": "2022-05-05T20:00:17.830187",
     "exception": false,
     "start_time": "2022-05-05T20:00:01.183824",
     "status": "completed"
    },
    "tags": []
   },
   "outputs": [
    {
     "name": "stdout",
     "output_type": "stream",
     "text": [
      "4/4 [==============================] - 8s 2s/step - loss: 4.9726 - accuracy: 0.4174\n",
      "Loss of the model is -  4.972647666931152\n",
      "4/4 [==============================] - 8s 2s/step - loss: 4.9726 - accuracy: 0.4174\n",
      "Accuracy of the model is -  41.7391300201416 %\n"
     ]
    }
   ],
   "source": [
    "print(\"Loss of the model is - \" , first_Mod.evaluate(X_temp,y_temp)[0])\n",
    "print(\"Accuracy of the model is - \" , first_Mod.evaluate(X_temp,y_temp)[1]*100 , \"%\")"
   ]
  },
  {
   "cell_type": "code",
   "execution_count": 14,
   "id": "8ef943bf",
   "metadata": {
    "execution": {
     "iopub.execute_input": "2022-05-05T20:00:18.318317Z",
     "iopub.status.busy": "2022-05-05T20:00:18.317998Z",
     "iopub.status.idle": "2022-05-05T20:00:18.823165Z",
     "shell.execute_reply": "2022-05-05T20:00:18.822082Z"
    },
    "papermill": {
     "duration": 0.751951,
     "end_time": "2022-05-05T20:00:18.825637",
     "exception": false,
     "start_time": "2022-05-05T20:00:18.073686",
     "status": "completed"
    },
    "tags": []
   },
   "outputs": [
    {
     "data": {
      "image/png": "[encoded data removed]",
      "text/plain": [
       "<Figure size 1440x720 with 2 Axes>"
      ]
     },
     "metadata": {
      "needs_background": "light"
     },
     "output_type": "display_data"
    }
   ],
   "source": [
    "epochs = [i for i in range(50)]\n",
    "fig , ax = plt.subplots(1,2)\n",
    "train_acc = hist.history['accuracy']\n",
    "train_loss = hist.history['loss']\n",
    "val_acc = hist.history['val_accuracy']\n",
    "val_loss = hist.history['val_loss']\n",
    "fig.set_size_inches(20,10)\n",
    "\n",
    "ax[0].plot(epochs , train_acc , 'go-' , label = 'Training Accuracy')\n",
    "ax[0].plot(epochs , val_acc , 'ro-' , label = 'Validation Accuracy')\n",
    "ax[0].set_title('Training & Validation Accuracy')\n",
    "ax[0].legend()\n",
    "ax[0].set_xlabel(\"Epochs\")\n",
    "ax[0].set_ylabel(\"Accuracy\")\n",
    "\n",
    "ax[1].plot(epochs , train_loss , 'g-o' , label = 'Training Loss')\n",
    "ax[1].plot(epochs , val_loss , 'r-o' , label = 'Validation Loss')\n",
    "ax[1].set_title('Testing Accuracy & Loss')\n",
    "ax[1].legend()\n",
    "ax[1].set_xlabel(\"Epochs\")\n",
    "ax[1].set_ylabel(\"Training & Validation Loss\")\n",
    "plt.show()"
   ]
  },
  {
   "cell_type": "code",
   "execution_count": 15,
   "id": "0c9d159b",
   "metadata": {
    "execution": {
     "iopub.execute_input": "2022-05-05T20:00:19.329241Z",
     "iopub.status.busy": "2022-05-05T20:00:19.328704Z",
     "iopub.status.idle": "2022-05-05T20:00:25.652228Z",
     "shell.execute_reply": "2022-05-05T20:00:25.651370Z"
    },
    "papermill": {
     "duration": 6.575783,
     "end_time": "2022-05-05T20:00:25.654491",
     "exception": false,
     "start_time": "2022-05-05T20:00:19.078708",
     "status": "completed"
    },
    "tags": []
   },
   "outputs": [
    {
     "data": {
      "text/plain": [
       "array([7.4616060e-20, 5.0328211e-14, 1.0000000e+00, 9.9366057e-17,\n",
       "       4.0654433e-23, 3.2783230e-04, 5.9375960e-01, 8.5747108e-02,\n",
       "       3.1995809e-01, 2.0735394e-04, 5.3595728e-04, 2.3044307e-02,\n",
       "       9.7623140e-01, 1.8063778e-04, 7.6952874e-06], dtype=float32)"
      ]
     },
     "execution_count": 15,
     "metadata": {},
     "output_type": "execute_result"
    }
   ],
   "source": [
    "predictions = first_Mod.predict(X_test)\n",
    "predictions = predictions.reshape(1,-1)[0]\n",
    "predictions[:15]"
   ]
  },
  {
   "cell_type": "code",
   "execution_count": 16,
   "id": "ed0c60ed",
   "metadata": {
    "execution": {
     "iopub.execute_input": "2022-05-05T20:00:26.129137Z",
     "iopub.status.busy": "2022-05-05T20:00:26.128717Z",
     "iopub.status.idle": "2022-05-05T20:00:27.035173Z",
     "shell.execute_reply": "2022-05-05T20:00:27.034505Z"
    },
    "papermill": {
     "duration": 1.14885,
     "end_time": "2022-05-05T20:00:27.037414",
     "exception": false,
     "start_time": "2022-05-05T20:00:25.888564",
     "status": "completed"
    },
    "tags": []
   },
   "outputs": [],
   "source": [
    "from tensorflow.keras.models import load_model\n",
    "first_Mod.save('eyedisease.h5')"
   ]
  },
  {
   "cell_type": "code",
   "execution_count": null,
   "id": "50802c3d",
   "metadata": {
    "papermill": {
     "duration": 0.233942,
     "end_time": "2022-05-05T20:00:27.507027",
     "exception": false,
     "start_time": "2022-05-05T20:00:27.273085",
     "status": "completed"
    },
    "tags": []
   },
   "outputs": [],
   "source": []
  },
  {
   "cell_type": "code",
   "execution_count": null,
   "id": "4dd1b444",
   "metadata": {
    "papermill": {
     "duration": 0.253471,
     "end_time": "2022-05-05T20:00:27.992454",
     "exception": false,
     "start_time": "2022-05-05T20:00:27.738983",
     "status": "completed"
    },
    "tags": []
   },
   "outputs": [],
   "source": []
  },
  {
   "cell_type": "code",
   "execution_count": null,
   "id": "25bb8675",
   "metadata": {
    "papermill": {
     "duration": 0.233509,
     "end_time": "2022-05-05T20:00:28.466181",
     "exception": false,
     "start_time": "2022-05-05T20:00:28.232672",
     "status": "completed"
    },
    "tags": []
   },
   "outputs": [],
   "source": []
  }
 ],
 "metadata": {
  "kernelspec": {
   "display_name": "Python 3",
   "language": "python",
   "name": "python3"
  },
  "language_info": {
   "codemirror_mode": {
    "name": "ipython",
    "version": 3
   },
   "file_extension": ".py",
   "mimetype": "text/x-python",
   "name": "python",
   "nbconvert_exporter": "python",
   "pygments_lexer": "ipython3",
   "version": "3.10.0"
  },
  "papermill": {
   "default_parameters": {},
   "duration": 5886.986416,
   "end_time": "2022-05-05T20:00:31.954112",
   "environment_variables": {},
   "exception": null,
   "input_path": "__notebook__.ipynb",
   "output_path": "__notebook__.ipynb",
   "parameters": {},
   "start_time": "2022-05-05T18:22:24.967696",
   "version": "2.3.4"
  }
 },
 "nbformat": 4,
 "nbformat_minor": 5
}
